{
  "nbformat": 4,
  "nbformat_minor": 0,
  "metadata": {
    "colab": {
      "name": "multi_layer.ipynb",
      "provenance": [],
      "collapsed_sections": []
    },
    "kernelspec": {
      "name": "python3",
      "display_name": "Python 3"
    },
    "language_info": {
      "name": "python"
    }
  },
  "cells": [
    {
      "cell_type": "code",
      "metadata": {
        "id": "_1c5eStQrzfS"
      },
      "source": [
        "import csv\n",
        "import numpy as np\n",
        "import math\n",
        "from scipy.special import expit\n",
        "from sklearn.metrics import confusion_matrix, accuracy_score\n",
        "import random\n",
        "import sklearn.metrics as mt\n"
      ],
      "execution_count": null,
      "outputs": []
    },
    {
      "cell_type": "code",
      "metadata": {
        "id": "0JfUisQ7zEPI"
      },
      "source": [
        "from sklearn.model_selection import train_test_split\n",
        "\n",
        "def load_data():\n",
        "  f = open(\"mnist_train.csv\",\"r\")\n",
        "  data0 = csv.reader(f)\n",
        "  train = np.array(list(data0), dtype=np.int32)\n",
        "  train_data, val_data = train_test_split(train, test_size=0.2)\n",
        "  f1 = open(\"mnist_test.csv\",\"r\")\n",
        "  data1 = csv.reader(f1)\n",
        "  test = np.array(list(data1), dtype=np.int32)\n",
        "  return train_data, val_data, test"
      ],
      "execution_count": null,
      "outputs": []
    },
    {
      "cell_type": "code",
      "metadata": {
        "id": "gL5Ary8V1J2D"
      },
      "source": [
        "# Hyper Paramater\n",
        "bias = 1\n",
        "lear_rate = 0.1\n",
        "alpha = 0.9\n",
        "n = 100"
      ],
      "execution_count": null,
      "outputs": []
    },
    {
      "cell_type": "code",
      "metadata": {
        "id": "2zDFftlF1nkI"
      },
      "source": [
        "def sigmoid(x):\n",
        "  return 1/(1 + np.exp(-x))"
      ],
      "execution_count": null,
      "outputs": []
    },
    {
      "cell_type": "code",
      "metadata": {
        "id": "qWaqCeGQz-z3"
      },
      "source": [
        "class Multi_Perceptron():\n",
        "  def __init__(self, train_data, train_val, test):\n",
        "    self.train_data = train_data\n",
        "    self.train_val = train_val\n",
        "    self.test = test\n",
        "    \n",
        "    # Khởi tạo weight\n",
        "    self.weight_1 = np.random.uniform(-0.05,0.05,(785,n)) # 785 x 100: R x S /// S x R\n",
        "    # print(weight_i2h.shape)\n",
        "\n",
        "    self.weight_2 = np.random.uniform(-0.05,0.05,(n+1,10))\n",
        "    # print(weight_h20.shape)\n",
        "\n",
        "    # store previous delta wt from hidden to output layer\n",
        "    self.prev_wt_2 = np.zeros((n+1,10))\n",
        "\n",
        "    # store previous delta wt from input to hidden layer\n",
        "    self.prev_wt_1 = np.zeros((785,n))\n",
        "    self.accuracy_val = []\n",
        "    self.accuracy_train = []\n",
        "    self.loss_function = []\n",
        "    self.perfect_w_1 = None\n",
        "    self.perfect_w_2 = None\n",
        "\n",
        "  def fit(self, epochs):\n",
        "    np.random.shuffle(self.train_data)\n",
        "    val_index = 0\n",
        "    for epoch in range(epochs):\n",
        "      predict_list = []\n",
        "      actual_list = []\n",
        "      pre_label_val = []\n",
        "      actual_label_val = []\n",
        "      if(val_index == 0):\n",
        "        self.perfect_w_1 = self.weight_1\n",
        "        self.perfect_w_2 = self.weight_2\n",
        "      for i in range(self.train_data.shape[0]):\n",
        "          target_class = self.train_data[i,0].astype('int')\n",
        "          actual_list.append(target_class)    \n",
        "          pi = self.train_data[i].astype('float16')/255\n",
        "          pi[0] = bias            ## Set the value of x0 to bias unit = 1\n",
        "          pi = pi.reshape(1,785)\n",
        "\n",
        "          n_1 = np.dot(pi, self.weight_1)\n",
        "          a_1 = sigmoid(n_1)\n",
        "          # print(\"sig_hl\",sig_hl.shape)\n",
        "          hl2_input = np.zeros((1,n+1))\n",
        "          hl2_input[0,0] = 1\n",
        "          hl2_input[0,1:] = a_1\n",
        "          # print(\"hl_input\",hl_input)\n",
        "          # print(hl_input.shape)\n",
        "          n_2 = np.dot(hl2_input, self.weight_2)\n",
        "          a_2 = sigmoid(n_2)\n",
        "          # print(sig_ol)\n",
        "          predict = np.argmax(a_2)\n",
        "          # print(predict)\n",
        "          predict_list.append(predict)\n",
        "\n",
        "          #Update:\n",
        "          tk = np.zeros((1,10))+0.1\n",
        "          tk[0,target_class] = 0.9\n",
        "          # print(tk)\n",
        "          s_2 = -2 * a_2*(1-a_2)* (tk - a_2)\n",
        "          # print(\"error_ol shape for \",epoch,\" \",error_ol.shape)\n",
        "          ##error term for hidden unit\n",
        "          s_1 = a_1*(1-a_1)*np.dot(s_2, self.weight_2[1:,:].T) \n",
        "          # print(delta_hl.shape)\n",
        "          # print(\"error_hl shape for \",epoch,\" \",error_hl.shape)\n",
        "          ####### Update weights ##########\n",
        "\n",
        "          ### Hidden to output layer wt updation\n",
        "\n",
        "          delta_weight_h2 = (lear_rate * s_2 * hl2_input.T) + (alpha * self.prev_wt_2)\n",
        "          self.prev_wt_2 = delta_weight_h2\n",
        "          # print(\"delta_weight_h20.shape after wt updation\", delta_weight_h20.shape)\n",
        "          self.weight_2 = self.weight_2 - delta_weight_h2\n",
        "\n",
        "\n",
        "          ### Input to output layer wt updation    \n",
        "\n",
        "          delta_weight_h1 = (lear_rate * s_1 * pi.T) + (alpha * self.prev_wt_1) \n",
        "          self.prev_wt_1 = delta_weight_h1\n",
        "          # print(\"delta_weight_i2h.shape after wt updation\", delta_weight_i2h.shape)\n",
        "          self.weight_1 = self.weight_1 - delta_weight_h1\n",
        "\n",
        "      #### Validation ####\n",
        "      accur_val = 0\n",
        "      MSE_loss = 0\n",
        "      for val in range(self.train_val.shape[0]):\n",
        "        tar_class = self.train_val[val, 0].astype('int')\n",
        "        actual_label_val.append(tar_class)\n",
        "        pi = self.train_val[val].astype('float16')/255\n",
        "        pi[0] = bias            ## Set the value of x0 to bias unit = 1\n",
        "        pi = pi.reshape(1,785)\n",
        "\n",
        "        n_1 = np.dot(pi, self.weight_1)\n",
        "        a_1 = sigmoid(n_1)\n",
        "        # print(\"sig_hl\",sig_hl.shape)\n",
        "        hl2_input = np.zeros((1,n+1))\n",
        "        hl2_input[0,0] = 1\n",
        "        hl2_input[0,1:] = a_1\n",
        "        # print(\"hl_input\",hl_input)\n",
        "        # print(hl_input.shape)\n",
        "        n_2 = np.dot(hl2_input, self.weight_2)\n",
        "        a_2 = sigmoid(n_2)\n",
        "        # print(sig_ol)\n",
        "        predict = np.argmax(a_2)\n",
        "        # print(predict)\n",
        "        pre_label_val.append(predict)\n",
        "        MSE_loss += (tar_class - predict)**2\n",
        "\n",
        "\n",
        "      accur = (np.array(predict_list) == np.array(actual_list)).sum()/float(len(actual_list))*100\n",
        "      accur_val = (np.array(pre_label_val) == np.array(actual_label_val)).sum()/float(len(actual_label_val))*100\n",
        "      MSE_loss = MSE_loss/len(actual_label_val)\n",
        "      self.loss_function.append(MSE_loss)\n",
        "      self.accuracy_val.append(accur_val)\n",
        "      self.accuracy_train.append(accur)\n",
        "      # print(\"len of actual_list after \", epoch,\" is \",len(actual_list))\n",
        "      # print(\"len of pred_list after \", epoch,\" is \",len(predict_list))\n",
        "      print('Epoch {}: accurancy_train = {}, accuracy_val = {}, loss = {} \\n {}'.format(epoch+1, accur, accur_val, MSE_loss, confusion_matrix(predict_list, actual_list)))\n",
        "      if(epoch != 0):\n",
        "        print('Epoch {}:loss = {}, loss_before = {}'.format(epoch+1, MSE_loss, self.loss_function[epoch-1]))\n",
        "      ### Kiểm tra overfitting ####\n",
        "      if(epoch == 0):\n",
        "        pass\n",
        "      else:\n",
        "        if(self.loss_function[epoch] > self.loss_function[epoch-1]):\n",
        "          if(val_index == 3):\n",
        "            print('Early Stop Trainning!!! ')\n",
        "            break\n",
        "        else:\n",
        "          val_index = 0\n",
        "\n",
        "    return predict_list, actual_list, accur\n",
        "  def confuse_matrix(self, predict_list, actual_list):\n",
        "    print(confusion_matrix(actual_list,predict_list))  \n",
        "\n",
        "  def save_model(self):\n",
        "    np.savetxt('w_1.csv', self.perfect_w_1)\n",
        "    np.savetxt('w_2.csv', self.perfect_w_2)\n",
        "  \n",
        "  def load_mode(self):\n",
        "    self.weight_1 = np.loadtxt('w_1.csv')\n",
        "    self.weight_2 = np.loadtxt('w_2.csv')\n",
        "\n",
        "  def test_model(self):\n",
        "    true_labels = []\n",
        "    predict_labels = []\n",
        "    for i in range(len(self.test)):\n",
        "      true_label = self.test[i,0].astype('int')\n",
        "      true_labels.append(true_label)\n",
        "\n",
        "      pi = self.test[i].astype('float16')/255\n",
        "      pi[0] = bias            ## Set the value of x0 to bias unit = 1\n",
        "      pi = pi.reshape(1,785)\n",
        "\n",
        "      n_1 = np.dot(pi, self.weight_1)\n",
        "      a_1 = sigmoid(n_1)\n",
        "      # print(\"sig_hl\",sig_hl.shape)\n",
        "      hl2_input = np.zeros((1,n+1))\n",
        "      hl2_input[0,0] = 1\n",
        "      hl2_input[0,1:] = a_1\n",
        "      n_2 = np.dot(hl2_input, self.weight_2)\n",
        "      a_2 = sigmoid(n_2)\n",
        "      # print(sig_ol)\n",
        "      predict = np.argmax(a_2)\n",
        "      # print(predict)\n",
        "      predict_labels.append(predict)\n",
        "    # accuracy, F1, presion, recall\n",
        "    accuracy_ = mt.accuracy_score(true_labels, predict_labels)\n",
        "    F1_score = mt.f1_score(true_labels, predict_labels, average='macro')\n",
        "    precision = mt.precision_score(true_labels, predict_labels, average='macro')\n",
        "    recall = mt.recall_score(true_labels, predict_labels, average='macro')\n",
        "    return accuracy_, F1_score, precision, recall\n",
        "\n"
      ],
      "execution_count": null,
      "outputs": []
    },
    {
      "cell_type": "code",
      "metadata": {
        "id": "oAl9Gx3i5Ksi"
      },
      "source": [
        "train, val, test = load_data()"
      ],
      "execution_count": null,
      "outputs": []
    },
    {
      "cell_type": "code",
      "metadata": {
        "colab": {
          "base_uri": "https://localhost:8080/"
        },
        "id": "hvT0-jlu5Ak_",
        "outputId": "ea4d7bf8-ce7e-4eea-c07a-4e2bce5b221b"
      },
      "source": [
        "Model = Multi_Perceptron(train, val, test)\n",
        "pre, true_label, acc = Model.fit(50)"
      ],
      "execution_count": null,
      "outputs": [
        {
          "output_type": "stream",
          "name": "stdout",
          "text": [
            "Epoch 1: accurancy_train = 90.70416666666667, accuracy_val = 93.38333333333333, loss = 1.2073333333333334 \n",
            " [[4528    4   50   24   18   67   54   30   23   30]\n",
            " [   0 5162   24   20   18   17   21   32   50   13]\n",
            " [  24   36 4274  132   35   23   36   61   53   16]\n",
            " [  17   23   90 4251    7  171    9   41  112   72]\n",
            " [   6   20   57    8 4209   30   44   51   23  176]\n",
            " [  23   11    6  136    9 3791   67    8   77   39]\n",
            " [  47   11   62   22   62   76 4403    6   36   12]\n",
            " [  10   11   78   59   20   18    1 4560   14  143]\n",
            " [  93   72  140  197   55  101   78   43 4258  126]\n",
            " [  11   13   18   44  236   46    6  177   74 4102]]\n",
            "Epoch 2: accurancy_train = 94.58333333333333, accuracy_val = 93.77499999999999, loss = 0.9223333333333333 \n",
            " [[4601    1   28   13   10   22   33    8   17   22]\n",
            " [   0 5239   14    5   14    7    8   14   29   12]\n",
            " [  14   34 4510   90   15   12   12   45   29    7]\n",
            " [  11   20   42 4474    2   75    2   19   54   45]\n",
            " [   8    7   15    3 4404   14   25   28   12   99]\n",
            " [  14    2    4   72    0 4070   46    3   35   30]\n",
            " [  24    3   23   12   30   47 4539    2   19    2]\n",
            " [   2   10   54   44   13    6    1 4753    7   77]\n",
            " [  79   36   96  137   40   56   53   35 4459   84]\n",
            " [   6   11   13   43  141   31    0  102   59 4351]]\n",
            "Epoch 2:loss = 0.9223333333333333, loss_before = 1.2073333333333334\n"
          ]
        }
      ]
    },
    {
      "cell_type": "code",
      "metadata": {
        "colab": {
          "base_uri": "https://localhost:8080/"
        },
        "id": "Lh_Wgz8jUvn-",
        "outputId": "0f6ce517-1fae-4295-a3b3-27e25d5342fc"
      },
      "source": [
        "Model.test_model()"
      ],
      "execution_count": null,
      "outputs": [
        {
          "output_type": "execute_result",
          "data": {
            "text/plain": [
              "(0.9331, 0.9318325989864895, 0.9353124387873908, 0.9330689880116037)"
            ]
          },
          "metadata": {},
          "execution_count": 13
        }
      ]
    },
    {
      "cell_type": "code",
      "metadata": {
        "id": "jIL8c4RiYdGW"
      },
      "source": [
        "Model.save_model()"
      ],
      "execution_count": null,
      "outputs": []
    },
    {
      "cell_type": "code",
      "metadata": {
        "id": "3CyipH5aYrNI"
      },
      "source": [
        "rebuild = Multi_Perceptron(train, val, test)\n",
        "rebuild.load_mode()"
      ],
      "execution_count": null,
      "outputs": []
    },
    {
      "cell_type": "code",
      "metadata": {
        "colab": {
          "base_uri": "https://localhost:8080/"
        },
        "id": "XYybt-92Y7DO",
        "outputId": "62b1a6ad-a758-4859-bf8f-f7cfcd2ea825"
      },
      "source": [
        "rebuild.test_model()"
      ],
      "execution_count": null,
      "outputs": [
        {
          "output_type": "execute_result",
          "data": {
            "text/plain": [
              "(0.9334, 0.9328203428251955, 0.9355174755619435, 0.9333487650759638)"
            ]
          },
          "metadata": {},
          "execution_count": 16
        }
      ]
    },
    {
      "cell_type": "code",
      "metadata": {
        "colab": {
          "base_uri": "https://localhost:8080/",
          "height": 313
        },
        "id": "duziHGUG5DvT",
        "outputId": "3472355a-93ce-46f0-d4fd-046472189a18"
      },
      "source": [
        "import matplotlib.pyplot as plt\n",
        "\n",
        "val_loss = Model.loss_function\n",
        "epochs = len(val_loss)\n",
        "x_ = np.linspace(1, epochs, epochs)\n",
        "y_ = val_loss\n",
        "ax = plt.subplot(111) \n",
        "\n",
        "line, = plt.plot(x_, y_, lw=2)\n",
        "\n",
        "ax.legend(('Loss Validation', 'Dot product'))\n",
        "ax.set_title(\"Validation loss\")\n",
        "ax.set_xlabel('epochs')\n",
        "ax.set_ylabel('Loss')"
      ],
      "execution_count": null,
      "outputs": [
        {
          "output_type": "execute_result",
          "data": {
            "text/plain": [
              "Text(0, 0.5, 'Loss')"
            ]
          },
          "metadata": {},
          "execution_count": 21
        },
        {
          "output_type": "display_data",
          "data": {
            "image/png": "[encoded data removed]",
            "text/plain": [
              "<Figure size 432x288 with 1 Axes>"
            ]
          },
          "metadata": {
            "needs_background": "light"
          }
        }
      ]
    },
    {
      "cell_type": "code",
      "metadata": {
        "colab": {
          "base_uri": "https://localhost:8080/",
          "height": 313
        },
        "id": "vJC3GdCZ6fEB",
        "outputId": "3d35fb04-3c2c-4582-ea84-2d2d3142ac37"
      },
      "source": [
        "train_acc = Model.accuracy_train\n",
        "val_acc = Model.accuracy_val\n",
        "epochs = len(train_acc)\n",
        "x_ = np.linspace(1, epochs, epochs)\n",
        "y_train = train_acc\n",
        "y_val = val_acc\n",
        "ax = plt.subplot(111) \n",
        "\n",
        "line, = plt.plot(x_, y_train, lw=2)\n",
        "line, = plt.plot(x_, y_val, lw=1)\n",
        "ax.legend(('validation accuracy', 'train_accuracy'))\n",
        "ax.set_title(\"Validation loss\")\n",
        "ax.set_xlabel('epochs')\n",
        "ax.set_ylabel('Accuracy')"
      ],
      "execution_count": null,
      "outputs": [
        {
          "output_type": "execute_result",
          "data": {
            "text/plain": [
              "Text(0, 0.5, 'Accuracy')"
            ]
          },
          "metadata": {},
          "execution_count": 22
        },
        {
          "output_type": "display_data",
          "data": {
            "image/png": "[encoded data removed]",
            "text/plain": [
              "<Figure size 432x288 with 1 Axes>"
            ]
          },
          "metadata": {
            "needs_background": "light"
          }
        }
      ]
    }
  ]
}